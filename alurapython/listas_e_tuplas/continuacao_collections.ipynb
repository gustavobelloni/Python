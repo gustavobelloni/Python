{
 "cells": [
  {
   "cell_type": "code",
   "execution_count": 1,
   "metadata": {},
   "outputs": [],
   "source": [
    "usuarios_data_science = [15, 23, 43, 56]\n",
    "usuarios_machine_learning = [13, 23, 56, 42]"
   ]
  },
  {
   "cell_type": "code",
   "execution_count": 4,
   "metadata": {},
   "outputs": [
    {
     "data": {
      "text/plain": [
       "[15, 23, 43, 56, 13, 23, 56, 42]"
      ]
     },
     "execution_count": 4,
     "metadata": {},
     "output_type": "execute_result"
    }
   ],
   "source": [
    "assistiram = usuarios_data_science.copy()\n",
    "assistiram.extend(usuarios_machine_learning)\n",
    "assistiram"
   ]
  },
  {
   "cell_type": "code",
   "execution_count": 5,
   "metadata": {},
   "outputs": [
    {
     "data": {
      "text/plain": [
       "8"
      ]
     },
     "execution_count": 5,
     "metadata": {},
     "output_type": "execute_result"
    }
   ],
   "source": [
    "len(assistiram)"
   ]
  },
  {
   "cell_type": "code",
   "execution_count": 6,
   "metadata": {},
   "outputs": [
    {
     "data": {
      "text/plain": [
       "{13, 15, 23, 42, 43, 56}"
      ]
     },
     "execution_count": 6,
     "metadata": {},
     "output_type": "execute_result"
    }
   ],
   "source": [
    "set(assistiram)  # Conjunto"
   ]
  },
  {
   "cell_type": "code",
   "execution_count": 10,
   "metadata": {},
   "outputs": [
    {
     "data": {
      "text/plain": [
       "{1, 2, 3}"
      ]
     },
     "execution_count": 10,
     "metadata": {},
     "output_type": "execute_result"
    }
   ],
   "source": [
    "set([1, 2, 3, 1])"
   ]
  },
  {
   "cell_type": "code",
   "execution_count": 11,
   "metadata": {},
   "outputs": [
    {
     "data": {
      "text/plain": [
       "{1, 2, 3}"
      ]
     },
     "execution_count": 11,
     "metadata": {},
     "output_type": "execute_result"
    }
   ],
   "source": [
    "{1, 2, 3, 1}"
   ]
  },
  {
   "cell_type": "code",
   "execution_count": 12,
   "metadata": {},
   "outputs": [
    {
     "data": {
      "text/plain": [
       "set"
      ]
     },
     "execution_count": 12,
     "metadata": {},
     "output_type": "execute_result"
    }
   ],
   "source": [
    "type({1, 2, 3})"
   ]
  },
  {
   "cell_type": "code",
   "execution_count": 17,
   "metadata": {},
   "outputs": [],
   "source": [
    "usuarios_data_science = {15, 23, 43, 56}\n",
    "usuarios_machine_learning = {13, 23, 56, 42}"
   ]
  },
  {
   "cell_type": "code",
   "execution_count": 18,
   "metadata": {},
   "outputs": [
    {
     "data": {
      "text/plain": [
       "{13, 23, 42, 56}"
      ]
     },
     "execution_count": 18,
     "metadata": {},
     "output_type": "execute_result"
    }
   ],
   "source": [
    "usuarios_machine_learning"
   ]
  },
  {
   "cell_type": "code",
   "execution_count": 19,
   "metadata": {},
   "outputs": [
    {
     "name": "stdout",
     "output_type": "stream",
     "text": [
      "42\n",
      "43\n",
      "13\n",
      "15\n",
      "23\n",
      "56\n"
     ]
    }
   ],
   "source": [
    "for usuario in set(assistiram):\n",
    "    print(usuario)"
   ]
  },
  {
   "cell_type": "code",
   "execution_count": 20,
   "metadata": {},
   "outputs": [
    {
     "data": {
      "text/plain": [
       "{13, 15, 23, 42, 43, 56}"
      ]
     },
     "execution_count": 20,
     "metadata": {},
     "output_type": "execute_result"
    }
   ],
   "source": [
    "usuarios_data_science | usuarios_machine_learning  # Operação de Ou (conjunção)"
   ]
  },
  {
   "cell_type": "code",
   "execution_count": 21,
   "metadata": {},
   "outputs": [
    {
     "data": {
      "text/plain": [
       "{23, 56}"
      ]
     },
     "execution_count": 21,
     "metadata": {},
     "output_type": "execute_result"
    }
   ],
   "source": [
    "usuarios_data_science & usuarios_machine_learning  # Operação de E (intersecção)"
   ]
  },
  {
   "cell_type": "code",
   "execution_count": 22,
   "metadata": {},
   "outputs": [
    {
     "data": {
      "text/plain": [
       "{15, 43}"
      ]
     },
     "execution_count": 22,
     "metadata": {},
     "output_type": "execute_result"
    }
   ],
   "source": [
    "usuarios_data_science - usuarios_machine_learning  # Quem ta no usuarios data science, mas não está no machine learning"
   ]
  },
  {
   "cell_type": "code",
   "execution_count": 24,
   "metadata": {},
   "outputs": [],
   "source": [
    "fez_ds_mas_nao_fez_ml = usuarios_data_science - usuarios_machine_learning"
   ]
  },
  {
   "cell_type": "code",
   "execution_count": 25,
   "metadata": {},
   "outputs": [
    {
     "data": {
      "text/plain": [
       "True"
      ]
     },
     "execution_count": 25,
     "metadata": {},
     "output_type": "execute_result"
    }
   ],
   "source": [
    "15 in fez_ds_mas_nao_fez_ml"
   ]
  },
  {
   "cell_type": "code",
   "execution_count": 26,
   "metadata": {},
   "outputs": [
    {
     "data": {
      "text/plain": [
       "False"
      ]
     },
     "execution_count": 26,
     "metadata": {},
     "output_type": "execute_result"
    }
   ],
   "source": [
    "23 in fez_ds_mas_nao_fez_ml"
   ]
  },
  {
   "cell_type": "code",
   "execution_count": 27,
   "metadata": {},
   "outputs": [
    {
     "data": {
      "text/plain": [
       "{13, 15, 42, 43}"
      ]
     },
     "execution_count": 27,
     "metadata": {},
     "output_type": "execute_result"
    }
   ],
   "source": [
    "usuarios_data_science ^ usuarios_machine_learning  # Fez um ou outro, mas não os dois ao mesmo tempo"
   ]
  },
  {
   "cell_type": "code",
   "execution_count": 28,
   "metadata": {},
   "outputs": [
    {
     "data": {
      "text/plain": [
       "7"
      ]
     },
     "execution_count": 28,
     "metadata": {},
     "output_type": "execute_result"
    }
   ],
   "source": [
    "usuarios = {1,5,76,34,52,13,17}\n",
    "len(usuarios)"
   ]
  },
  {
   "cell_type": "code",
   "execution_count": 31,
   "metadata": {},
   "outputs": [
    {
     "data": {
      "text/plain": [
       "7"
      ]
     },
     "execution_count": 31,
     "metadata": {},
     "output_type": "execute_result"
    }
   ],
   "source": [
    "usuarios.add(13)\n",
    "len(usuarios)"
   ]
  },
  {
   "cell_type": "code",
   "execution_count": 32,
   "metadata": {},
   "outputs": [],
   "source": [
    "usuarios.add(765)"
   ]
  },
  {
   "cell_type": "code",
   "execution_count": 33,
   "metadata": {},
   "outputs": [
    {
     "data": {
      "text/plain": [
       "8"
      ]
     },
     "execution_count": 33,
     "metadata": {},
     "output_type": "execute_result"
    }
   ],
   "source": [
    "len(usuarios)"
   ]
  },
  {
   "cell_type": "code",
   "execution_count": 34,
   "metadata": {},
   "outputs": [
    {
     "data": {
      "text/plain": [
       "{1, 5, 13, 17, 34, 52, 76, 765}"
      ]
     },
     "execution_count": 34,
     "metadata": {},
     "output_type": "execute_result"
    }
   ],
   "source": [
    "usuarios"
   ]
  },
  {
   "cell_type": "code",
   "execution_count": 35,
   "metadata": {},
   "outputs": [],
   "source": [
    "usuarios = frozenset(usuarios)"
   ]
  },
  {
   "cell_type": "code",
   "execution_count": 36,
   "metadata": {},
   "outputs": [
    {
     "data": {
      "text/plain": [
       "frozenset({1, 5, 13, 17, 34, 52, 76, 765})"
      ]
     },
     "execution_count": 36,
     "metadata": {},
     "output_type": "execute_result"
    }
   ],
   "source": [
    "usuarios"
   ]
  },
  {
   "cell_type": "code",
   "execution_count": 37,
   "metadata": {},
   "outputs": [
    {
     "data": {
      "text/plain": [
       "frozenset"
      ]
     },
     "execution_count": 37,
     "metadata": {},
     "output_type": "execute_result"
    }
   ],
   "source": [
    "type(usuarios)"
   ]
  },
  {
   "cell_type": "code",
   "execution_count": 40,
   "metadata": {},
   "outputs": [
    {
     "data": {
      "text/plain": [
       "['Bem',\n",
       " 'vindo,',\n",
       " 'meu',\n",
       " 'nome',\n",
       " 'é',\n",
       " 'Gustavo',\n",
       " 'eu',\n",
       " 'gosto',\n",
       " 'muito',\n",
       " 'de',\n",
       " 'nomes',\n",
       " 'e',\n",
       " 'tenho',\n",
       " 'o',\n",
       " 'meu',\n",
       " 'cachorro',\n",
       " 'e',\n",
       " 'gosto',\n",
       " 'muito',\n",
       " 'de',\n",
       " 'cachorro']"
      ]
     },
     "execution_count": 40,
     "metadata": {},
     "output_type": "execute_result"
    }
   ],
   "source": [
    "meu_texto = 'Bem vindo, meu nome é Gustavo eu gosto muito de nomes e tenho o meu cachorro e gosto muito de cachorro'\n",
    "meu_texto.split()"
   ]
  },
  {
   "cell_type": "code",
   "execution_count": 43,
   "metadata": {},
   "outputs": [
    {
     "data": {
      "text/plain": [
       "{'Bem',\n",
       " 'Gustavo',\n",
       " 'cachorro',\n",
       " 'de',\n",
       " 'e',\n",
       " 'eu',\n",
       " 'gosto',\n",
       " 'meu',\n",
       " 'muito',\n",
       " 'nome',\n",
       " 'nomes',\n",
       " 'o',\n",
       " 'tenho',\n",
       " 'vindo,',\n",
       " 'é'}"
      ]
     },
     "execution_count": 43,
     "metadata": {},
     "output_type": "execute_result"
    }
   ],
   "source": [
    "set(meu_texto.split())  # Tirei os repetidos"
   ]
  },
  {
   "cell_type": "markdown",
   "metadata": {},
   "source": [
    "### Dicionário (Mapa, etc...)"
   ]
  },
  {
   "cell_type": "code",
   "execution_count": 44,
   "metadata": {},
   "outputs": [],
   "source": [
    "aparicoes = {\"Guilherme\" : 1,\n",
    "\"cachorro\" : 2,\n",
    "\"nome\" : 2,\n",
    "\"vindo\" : 1}"
   ]
  },
  {
   "cell_type": "code",
   "execution_count": 45,
   "metadata": {},
   "outputs": [
    {
     "data": {
      "text/plain": [
       "dict"
      ]
     },
     "execution_count": 45,
     "metadata": {},
     "output_type": "execute_result"
    }
   ],
   "source": [
    "type(aparicoes)"
   ]
  },
  {
   "cell_type": "code",
   "execution_count": 46,
   "metadata": {},
   "outputs": [
    {
     "data": {
      "text/plain": [
       "1"
      ]
     },
     "execution_count": 46,
     "metadata": {},
     "output_type": "execute_result"
    }
   ],
   "source": [
    "aparicoes['Guilherme']"
   ]
  },
  {
   "cell_type": "code",
   "execution_count": 47,
   "metadata": {},
   "outputs": [
    {
     "data": {
      "text/plain": [
       "2"
      ]
     },
     "execution_count": 47,
     "metadata": {},
     "output_type": "execute_result"
    }
   ],
   "source": [
    "aparicoes['cachorro']"
   ]
  },
  {
   "cell_type": "code",
   "execution_count": 49,
   "metadata": {},
   "outputs": [
    {
     "data": {
      "text/plain": [
       "0"
      ]
     },
     "execution_count": 49,
     "metadata": {},
     "output_type": "execute_result"
    }
   ],
   "source": [
    "aparicoes.get('xpto', 0)"
   ]
  },
  {
   "cell_type": "code",
   "execution_count": 50,
   "metadata": {},
   "outputs": [
    {
     "data": {
      "text/plain": [
       "2"
      ]
     },
     "execution_count": 50,
     "metadata": {},
     "output_type": "execute_result"
    }
   ],
   "source": [
    "aparicoes.get('cachorro', 0)"
   ]
  },
  {
   "cell_type": "code",
   "execution_count": 51,
   "metadata": {},
   "outputs": [],
   "source": [
    "aparicoes['Carlos'] = 1"
   ]
  },
  {
   "cell_type": "code",
   "execution_count": 52,
   "metadata": {},
   "outputs": [
    {
     "data": {
      "text/plain": [
       "{'Guilherme': 1, 'cachorro': 2, 'nome': 2, 'vindo': 1, 'Carlos': 1}"
      ]
     },
     "execution_count": 52,
     "metadata": {},
     "output_type": "execute_result"
    }
   ],
   "source": [
    "aparicoes"
   ]
  },
  {
   "cell_type": "code",
   "execution_count": 53,
   "metadata": {},
   "outputs": [],
   "source": [
    "del aparicoes['Carlos']"
   ]
  },
  {
   "cell_type": "code",
   "execution_count": 54,
   "metadata": {},
   "outputs": [
    {
     "data": {
      "text/plain": [
       "{'Guilherme': 1, 'cachorro': 2, 'nome': 2, 'vindo': 1}"
      ]
     },
     "execution_count": 54,
     "metadata": {},
     "output_type": "execute_result"
    }
   ],
   "source": [
    "aparicoes"
   ]
  },
  {
   "cell_type": "code",
   "execution_count": 55,
   "metadata": {},
   "outputs": [
    {
     "data": {
      "text/plain": [
       "True"
      ]
     },
     "execution_count": 55,
     "metadata": {},
     "output_type": "execute_result"
    }
   ],
   "source": [
    "'cachorro' in aparicoes"
   ]
  },
  {
   "cell_type": "code",
   "execution_count": 56,
   "metadata": {},
   "outputs": [
    {
     "data": {
      "text/plain": [
       "False"
      ]
     },
     "execution_count": 56,
     "metadata": {},
     "output_type": "execute_result"
    }
   ],
   "source": [
    "'Carlos' in aparicoes"
   ]
  },
  {
   "cell_type": "code",
   "execution_count": 57,
   "metadata": {},
   "outputs": [
    {
     "name": "stdout",
     "output_type": "stream",
     "text": [
      "Guilherme\n",
      "cachorro\n",
      "nome\n",
      "vindo\n"
     ]
    }
   ],
   "source": [
    "for elemento in aparicoes:\n",
    "    print(elemento)"
   ]
  },
  {
   "cell_type": "code",
   "execution_count": 61,
   "metadata": {},
   "outputs": [
    {
     "name": "stdout",
     "output_type": "stream",
     "text": [
      "Guilherme\n",
      "cachorro\n",
      "nome\n",
      "vindo\n"
     ]
    }
   ],
   "source": [
    "for elemento in aparicoes.keys():\n",
    "    print(elemento)"
   ]
  },
  {
   "cell_type": "code",
   "execution_count": 62,
   "metadata": {},
   "outputs": [
    {
     "name": "stdout",
     "output_type": "stream",
     "text": [
      "1\n",
      "2\n",
      "2\n",
      "1\n"
     ]
    }
   ],
   "source": [
    "for elemento in aparicoes.values():\n",
    "    print(elemento)"
   ]
  },
  {
   "cell_type": "code",
   "execution_count": 63,
   "metadata": {},
   "outputs": [
    {
     "data": {
      "text/plain": [
       "True"
      ]
     },
     "execution_count": 63,
     "metadata": {},
     "output_type": "execute_result"
    }
   ],
   "source": [
    "1 in aparicoes.values()"
   ]
  },
  {
   "cell_type": "code",
   "execution_count": 65,
   "metadata": {},
   "outputs": [
    {
     "name": "stdout",
     "output_type": "stream",
     "text": [
      "Guilherme 1\n",
      "cachorro 2\n",
      "nome 2\n",
      "vindo 1\n"
     ]
    }
   ],
   "source": [
    "for elemento in aparicoes.keys():\n",
    "    valor = aparicoes[elemento]\n",
    "    print(elemento, valor)"
   ]
  },
  {
   "cell_type": "code",
   "execution_count": 66,
   "metadata": {},
   "outputs": [
    {
     "name": "stdout",
     "output_type": "stream",
     "text": [
      "('Guilherme', 1)\n",
      "('cachorro', 2)\n",
      "('nome', 2)\n",
      "('vindo', 1)\n"
     ]
    }
   ],
   "source": [
    "for elemento in aparicoes.items():\n",
    "    print(elemento)"
   ]
  },
  {
   "cell_type": "code",
   "execution_count": 67,
   "metadata": {},
   "outputs": [
    {
     "name": "stdout",
     "output_type": "stream",
     "text": [
      "Guilherme = 1\n",
      "cachorro = 2\n",
      "nome = 2\n",
      "vindo = 1\n"
     ]
    }
   ],
   "source": [
    "for chave, valor in aparicoes.items():\n",
    "    print(chave, '=', valor)"
   ]
  },
  {
   "cell_type": "code",
   "execution_count": 71,
   "metadata": {},
   "outputs": [
    {
     "data": {
      "text/plain": [
       "['palavra Guilherme', 'palavra cachorro', 'palavra nome', 'palavra vindo']"
      ]
     },
     "execution_count": 71,
     "metadata": {},
     "output_type": "execute_result"
    }
   ],
   "source": [
    "[f'palavra {chave}' for chave in aparicoes.keys()]\n",
    "    "
   ]
  },
  {
   "cell_type": "code",
   "execution_count": 78,
   "metadata": {},
   "outputs": [
    {
     "data": {
      "text/plain": [
       "{'bem': 1,\n",
       " 'vindo,': 1,\n",
       " 'meu': 2,\n",
       " 'nome': 1,\n",
       " 'é': 1,\n",
       " 'gustavo': 1,\n",
       " 'eu': 1,\n",
       " 'gosto': 2,\n",
       " 'muito': 2,\n",
       " 'de': 2,\n",
       " 'nomes': 1,\n",
       " 'e': 2,\n",
       " 'tenho': 1,\n",
       " 'o': 1,\n",
       " 'cachorro': 2}"
      ]
     },
     "execution_count": 78,
     "metadata": {},
     "output_type": "execute_result"
    }
   ],
   "source": [
    "meu_texto = 'Bem vindo, meu nome é Gustavo eu gosto muito de nomes e tenho o meu cachorro e gosto muito de cachorro'\n",
    "meu_texto = meu_texto.lower()\n",
    "\n",
    "aparicoes = {}\n",
    "\n",
    "for palavra in meu_texto.split():\n",
    "    ate_agora = aparicoes.get(palavra, 0)\n",
    "    aparicoes[palavra] = ate_agora + 1\n",
    "\n",
    "aparicoes"
   ]
  },
  {
   "cell_type": "code",
   "execution_count": 80,
   "metadata": {},
   "outputs": [
    {
     "data": {
      "text/plain": [
       "defaultdict(int,\n",
       "            {'bem': 1,\n",
       "             'vindo,': 1,\n",
       "             'meu': 2,\n",
       "             'nome': 1,\n",
       "             'é': 1,\n",
       "             'gustavo': 1,\n",
       "             'eu': 1,\n",
       "             'gosto': 2,\n",
       "             'muito': 2,\n",
       "             'de': 2,\n",
       "             'nomes': 1,\n",
       "             'e': 2,\n",
       "             'tenho': 1,\n",
       "             'o': 1,\n",
       "             'cachorro': 2})"
      ]
     },
     "execution_count": 80,
     "metadata": {},
     "output_type": "execute_result"
    }
   ],
   "source": [
    "from collections import defaultdict\n",
    "\n",
    "aparicoes = defaultdict(int)\n",
    "\n",
    "for palavra in meu_texto.split():\n",
    "    ate_agora = aparicoes[palavra]\n",
    "    aparicoes[palavra] = ate_agora + 1\n",
    "\n",
    "aparicoes"
   ]
  },
  {
   "cell_type": "code",
   "execution_count": 81,
   "metadata": {},
   "outputs": [
    {
     "data": {
      "text/plain": [
       "0"
      ]
     },
     "execution_count": 81,
     "metadata": {},
     "output_type": "execute_result"
    }
   ],
   "source": [
    "dicionario = defaultdict(int)\n",
    "dicionario['guilherme']"
   ]
  },
  {
   "cell_type": "code",
   "execution_count": 82,
   "metadata": {},
   "outputs": [
    {
     "data": {
      "text/plain": [
       "15"
      ]
     },
     "execution_count": 82,
     "metadata": {},
     "output_type": "execute_result"
    }
   ],
   "source": [
    "dicionario['guilherme'] = 15\n",
    "dicionario['guilherme']"
   ]
  },
  {
   "cell_type": "code",
   "execution_count": 83,
   "metadata": {},
   "outputs": [
    {
     "data": {
      "text/plain": [
       "defaultdict(int,\n",
       "            {'bem': 1,\n",
       "             'vindo,': 1,\n",
       "             'meu': 2,\n",
       "             'nome': 1,\n",
       "             'é': 1,\n",
       "             'gustavo': 1,\n",
       "             'eu': 1,\n",
       "             'gosto': 2,\n",
       "             'muito': 2,\n",
       "             'de': 2,\n",
       "             'nomes': 1,\n",
       "             'e': 2,\n",
       "             'tenho': 1,\n",
       "             'o': 1,\n",
       "             'cachorro': 2})"
      ]
     },
     "execution_count": 83,
     "metadata": {},
     "output_type": "execute_result"
    }
   ],
   "source": [
    "aparicoes = defaultdict(int)\n",
    "\n",
    "for palavra in meu_texto.split():\n",
    "    aparicoes[palavra] += 1\n",
    "    \n",
    "aparicoes"
   ]
  },
  {
   "cell_type": "code",
   "execution_count": 84,
   "metadata": {},
   "outputs": [
    {
     "name": "stdout",
     "output_type": "stream",
     "text": [
      "Imprimindo uma conta\n"
     ]
    },
    {
     "data": {
      "text/plain": [
       "<__main__.Conta at 0x29275e78b80>"
      ]
     },
     "execution_count": 84,
     "metadata": {},
     "output_type": "execute_result"
    }
   ],
   "source": [
    "class Conta:\n",
    "    def __init__(self):\n",
    "        print('Criando uma conta')\n",
    "\n",
    "contas = defaultdict(Conta)\n",
    "contas[15]"
   ]
  },
  {
   "cell_type": "code",
   "execution_count": 85,
   "metadata": {},
   "outputs": [
    {
     "name": "stdout",
     "output_type": "stream",
     "text": [
      "Imprimindo uma conta\n"
     ]
    },
    {
     "data": {
      "text/plain": [
       "<__main__.Conta at 0x29275e78c70>"
      ]
     },
     "execution_count": 85,
     "metadata": {},
     "output_type": "execute_result"
    }
   ],
   "source": [
    "contas[17]"
   ]
  },
  {
   "cell_type": "code",
   "execution_count": 86,
   "metadata": {},
   "outputs": [
    {
     "data": {
      "text/plain": [
       "Counter({'bem': 1,\n",
       "         'vindo,': 1,\n",
       "         'meu': 2,\n",
       "         'nome': 1,\n",
       "         'é': 1,\n",
       "         'gustavo': 1,\n",
       "         'eu': 1,\n",
       "         'gosto': 2,\n",
       "         'muito': 2,\n",
       "         'de': 2,\n",
       "         'nomes': 1,\n",
       "         'e': 2,\n",
       "         'tenho': 1,\n",
       "         'o': 1,\n",
       "         'cachorro': 2})"
      ]
     },
     "execution_count": 86,
     "metadata": {},
     "output_type": "execute_result"
    }
   ],
   "source": [
    "from collections import Counter\n",
    "\n",
    "aparicoes = Counter()\n",
    "\n",
    "for palavra in meu_texto.split():\n",
    "    aparicoes[palavra] += 1\n",
    "    \n",
    "aparicoes"
   ]
  },
  {
   "cell_type": "code",
   "execution_count": 87,
   "metadata": {},
   "outputs": [
    {
     "data": {
      "text/plain": [
       "Counter({'bem': 1,\n",
       "         'vindo,': 1,\n",
       "         'meu': 2,\n",
       "         'nome': 1,\n",
       "         'é': 1,\n",
       "         'gustavo': 1,\n",
       "         'eu': 1,\n",
       "         'gosto': 2,\n",
       "         'muito': 2,\n",
       "         'de': 2,\n",
       "         'nomes': 1,\n",
       "         'e': 2,\n",
       "         'tenho': 1,\n",
       "         'o': 1,\n",
       "         'cachorro': 2})"
      ]
     },
     "execution_count": 87,
     "metadata": {},
     "output_type": "execute_result"
    }
   ],
   "source": [
    "aparicoes = Counter(meu_texto.split())\n",
    "\n",
    "aparicoes"
   ]
  },
  {
   "cell_type": "markdown",
   "metadata": {},
   "source": [
    "### Testando o uso de diversas coleções"
   ]
  },
  {
   "cell_type": "code",
   "execution_count": 88,
   "metadata": {},
   "outputs": [],
   "source": [
    "texto1 = '''\n",
    "Para começar a fazer vendas online, uma empresa que fabrica adesivos criou uma página para pré cadastro de cartão de crédito que contém campos como nome, idade, endereço, CPF entre outros.\n",
    "\n",
    "O problema é que alguns cadastros não possuem um formato de CPF válido, isso porque o campo não possui nenhuma validação. Ou seja, o campo está aceitando não só números como letras e outros tipos de caractere.\n",
    "\n",
    "O que vamos fazer é encontrar uma maneira de ajudar o usuário de forma mais clara possível a preencher o cadastro e garantir a validação no front-end antes que os dados sejam enviados para o back-end.\n",
    "Como podemos notar não temos nenhuma validação, então fica confuso se devemos ou não colocar ponto ou traço no CPF e pode acontecer do usuário colocar outros caracteres no campo sem querer.\n",
    "\n",
    "Para isso evitar que isso ocorra vamos usar o atributo pattern do HTML5 que nos permite fazer uso das famosas expressões regulares que nada mais são que padrões utilizados para selecionar caracteres em uma string.\n",
    "\n",
    "Na nossa verificação vamos usar a lista [0-9], esse padrão indica que queremos os números de 0 até 9 e o intervalo {11}, indicando que temos que ter um número de 11 dígitos no nosso campo.\n",
    "\n",
    "Com a adição do pattern nosso campo de CPF ficou da seguinte maneira:\n",
    "\n",
    "Vamos usar os seguintes recursos das expressões regulares para formatar o CPF:\n",
    "\n",
    "O repetidor { n } seu papel é repetir um item quantas vezes que forem preciso.\n",
    "O Grupo ( ) seu papel é agrupar itens.\n",
    "\\d que representa o match com todos os números de 0 - 9.\n",
    "Baseado no padrão normalmente usado para o CPF, nossa expressão ficou assim /(\\d{3})(\\d{3})(\\d{3})(\\d{2})/, ou seja, três grupos que recebem três números cada e um grupo que recebe dois números.\n",
    "\n",
    "Como já o que já temos nossa expressão, o que vamos fazer agora é utilizar o método replace que vai receber dois parâmetros.\n",
    "\n",
    "O primeiro vai retornar uma nova string no padrão da nossa expressão regular e o segundo recebe uma função que vai concatenar os pontos e o traço com os essa string. Por fim a variável elementoAlvo recebe o CPF formatado.\n",
    "\n",
    "'''\n",
    "\n",
    "texto2 = '''\n",
    "Vamos imaginar uma empresa como o Nubank, seu nome é ByteBank. A primeira vista ela vende cartões de crédito e possui uma estratégia de marketing de conteúdo para seus clientes (Business to Consumer, B2C).\n",
    "\n",
    "Agora ela está lançando um novo cartão focado em empresas e quer criar uma estratégia de marketing de conteúdo para outras empresas (business to business, B2B).\n",
    "\n",
    "Como eles podem criar essa estratégia? É possível utilizar ideias e ferramentas do marketing de conteúdo B2C para o B2B?\n",
    "\n",
    "No marketing de conteúdo criado para B2C da ByteBank é muito enfatizado que as principais vantagens da empresa são:\n",
    "\n",
    "saber o limite na hora;\n",
    "não pagar qualquer tarifa e\n",
    "não ter que lidar com burocracia na hora de fazer o cartão.\n",
    "Então, todo o plano é focado em criar conteúdos sobre questões relacionadas ao mundo financeiro, para mostrar que a empresa é especialista no assunto, transmitindo uma confiança aos clientes.\n",
    "\n",
    "A equipe de marketing escreveu um texto no qual foram explicadas todas as taxas do cartão de crédito. Depois de explicar com detalhes o que é cada taxa, foi mostrado o porquê do cartão dessa empresa não cobrar nenhuma delas.\n",
    "\n",
    "Para mostrar na prática o quanto o consumidor economizaria, eles deram como um exemplo que mostram o que pode ser comprado com o dinheiro economizado em tarifas do cartão. Veja como ficou o texto:\n",
    "Será que se pode fazer a mesma coisa para o B2B, já que não existem tarifas para empresas também?\n",
    "\n",
    "As empresas que querem comprar um produto precisam avaliar muito bem toda a compra, sempre se perguntando se aquele produto realmente compensa para ela, principalmente a longo prazo.\n",
    "\n",
    "Então, e se fosse dito coisas que a empresa poderia fazer com o dinheiro que também vão trazer um retorno financeiro, ao contrário das taxas dos bancos? Como fazer pesquisas com usuários, desenvolver novos produtos, treinar pessoas para marketing, entre outras coisas?\n",
    "\n",
    "Pensando nessas diferenças, utilizamos o mesmo exemplo: quanto seria economizado por ano pela empresa cliente. Porém, no texto inteiro, queremos também mostrar dicas de como ela pode poupar, de diversas maneiras, mesmo usando um cartão de crédito. Então, o exemplo de economia no texto ficou assim:\n",
    "\n",
    "Pensando que a tarifa para empresas é mais barata que para pessoas físicas, ou seja, de 30 reais, passa a ser 10 reais por cartão para cada colaborador, e dez cartões serão feitos, cada um pertencendo a colaborador, depois de um ano, serão pagos: 10 (de tarifa) * 10 (quantidade de cartões) * 12 (meses do ano) = 1200.\n",
    "\n",
    "Assim, a organização gastaria R$ 1.200,00 para manter os cartões durante esse período. Agora, se os cartões não possuem tarifa nenhuma, em vez de pagar esse valor, a empresa economizará R$1.200,00.\n",
    "\n",
    "Agora, com essa economia, você poderia investir em treinamentos ou eventos, que, após um tempo, poderiam aumentar ainda mais o retorno da empresa.\n",
    "\n",
    "Foi usada uma linguagem mais formal do que a B2C porque quando estamos lidando com empresas temos que ser mais práticos e mostrar exatamente o que a empresa ganha, e, no caso, até como poderia ganhar mais depois.\n",
    "\n",
    "Além dessa mudança na linguagem, tivemos ideias diferentes de conteúdo. No B2C foram apresentados conhecimentos a respeito de cada taxa, para que a pessoa entenda o que está pagando e confie em empresas que não cobra as taxas.\n",
    "\n",
    "Agora para B2B foram apresentadas formas para economizar no cartão, pois, muitas vezes, os empresários sabem o que é cada taxa do cartão e tem que utilizá-lo mesmo assim. Então, mostramos como ele pode economizar e, uma dessas formas, é usar o cartão da ByteBank.\n",
    "\n",
    "Nesse mesmo texto para B2B também acrescentamos o conteúdo de outra vantagem do cartão: poder determinar um limite de gastos para cada categoria nos cartões dos funcionários da empresa.\n",
    "\n",
    "Dessa forma, os funcionários não podem gastar mais do que o determinado e, assim, a empresa consegue economizar e planejar os gastos e não extrapolar com compras dos funcionários.\n",
    "\n",
    "O foco da comunicação B2B que utilizamos foi dar dicas para não cometer erros e economizar mais, para que a empresa perceba que utilizar o cartão é vantagem.\n",
    "\n",
    "E caso a sua empresa seja diferente da ByteBank, seja só B2B e não tenha nenhum plano de comunicação focado para B2C para se basear?\n",
    "\n",
    "Existem diversas empresas B2B:\n",
    "\n",
    "as que vendem tanto para B2B quanto para B2C, como a ByteBank;\n",
    "as que vendem para ambos os consumidores, mas possuem um foco maior no B2B, como a Marmotex, que tem como serviço entrega de marmitas e entregam tanto para consumidores quanto empresas, mas possuem um foco maior em organizações e catering para eventos, ou seja, B2B\n",
    "as empresas somente B2B, como as de agências de publicidade.\n",
    "Cada uma das empresas que são B2B possui um produto e um serviço para mostrar.\n",
    "\n",
    "Então, caso você trabalhe em uma empresa que não possui um plano de marketing de conteúdo para B2C para se basear, é só seguir a ideia do marketing de conteúdo, de passar informações relacionados a sua empresa, tornando-a uma autoridade no assunto. E, além disso, mostrar maneiras que o seu produto e/ou serviço pode ajudar a empresa em determinado tema.\n",
    "\n",
    "No B2B, como no marketing de conteúdo focado no B2C, é importante frisar a importância e a relevância do produto e/ou serviço para o cliente. E, melhor, a longo prazo.\n",
    "\n",
    "A empresa cliente precisa entender e saber que a vantagem trazida pelo produto será duradoura. Pois o processo de compra B2B é mais longo justamente porque há muito em jogo e muitas pessoas envolvidas.\n",
    "\n",
    "Mudar de produto ou serviço é trabalhoso e pode causar prejuízo para a empresa, assim, eles buscam e precisam de garantias de que a solução funcionará por muito tempo.\n",
    "\n",
    "Assim, como no marketing B2C, os tipos de conteúdo devem se atentar aos clientes em cada fase do funil de marketing de conteúdo para trazer o conteúdo certo para a empresa em cada momento da obtenção do cartão.\n",
    "\n",
    "Para isso, a Bytebank utilizou dados, números, infográficos e mostrou com exemplos práticos maneiras de ajudar a contratante. Também escreveu conteúdos com histórias de empresas - os chamados cases de sucesso - que obtiveram lucro ou sucesso com o produto/serviço.\n",
    "\n",
    "Além disso, apresentou novidades e dicas tanto da sua empresa, que passou a fornecer uma conta para pessoas físicas e jurídicas, quanto do segmento dela, com informações que podem ser úteis ao cliente do setor financeiro.\n",
    "\n",
    "Como vimos, as principais diferenças entre os conteúdos B2C para o B2B são a linguagem, que deve ser mais formal se for B2B e apelar para o emocional se for B2C.\n",
    "\n",
    "No B2B você estará lidando com pessoas que tomam decisões nas empresas, então deverá mostrar como o produto pode ajudar a empresa, de preferência a longo prazo.\n",
    "\n",
    "Fora isso, o tipo de conteúdo pode ser o mesmo do marketing de conteúdo B2C. Passando desde textos sobre novidades, inovações e dicas na área, até infográficos com dados de pesquisas, vídeos, áudios de podcast, imagens e publicações nas redes sociais.\n",
    "\n",
    "Também, para conteúdo B2B, é muito comum encontrar whitepapers, grupos de usuários, meetups, cases de sucesso, trial gratuito, e até mesmo vídeos ou campanhas e posts de marketing com influenciadores.\n",
    "\n",
    "Agora, se você quiser saber mais sobre marketing de conteúdo, pode fazer nosso curso de Marketing de Conteúdo e, também, conferir mais informações no livro da Casa do Código, Marketing de Conteúdo: Estratégias para entregar o que seu público quer consumir.'''"
   ]
  },
  {
   "cell_type": "code",
   "execution_count": 98,
   "metadata": {},
   "outputs": [],
   "source": [
    "def analisa_frequencia_de_letras(texto):\n",
    "    aparicoes = Counter(texto.lower())\n",
    "\n",
    "    total_de_caracteres = sum(aparicoes.values())\n",
    "\n",
    "    proporcoes = [(letra, frequencia / total_de_caracteres) for letra, frequencia in aparicoes.items()]\n",
    "\n",
    "    proporcoes = Counter(dict(proporcoes))\n",
    "    mais_comuns = proporcoes.most_common(10)\n",
    "\n",
    "    for caractere, proporcao in mais_comuns:\n",
    "        print(f'{caractere} => {proporcao * 100:.2f}%')"
   ]
  },
  {
   "cell_type": "code",
   "execution_count": 99,
   "metadata": {},
   "outputs": [
    {
     "name": "stdout",
     "output_type": "stream",
     "text": [
      "  => 16.81%\n",
      "o => 9.52%\n",
      "e => 9.03%\n",
      "a => 8.45%\n",
      "s => 6.71%\n",
      "r => 6.62%\n",
      "n => 3.96%\n",
      "u => 3.72%\n",
      "m => 3.57%\n",
      "t => 3.43%\n"
     ]
    }
   ],
   "source": [
    "analisa_frequencia_de_letras(texto1)"
   ]
  },
  {
   "cell_type": "code",
   "execution_count": 100,
   "metadata": {},
   "outputs": [
    {
     "name": "stdout",
     "output_type": "stream",
     "text": [
      "  => 16.11%\n",
      "a => 9.81%\n",
      "e => 9.50%\n",
      "o => 8.61%\n",
      "s => 6.74%\n",
      "r => 5.84%\n",
      "m => 4.39%\n",
      "t => 4.03%\n",
      "n => 3.99%\n",
      "i => 3.97%\n"
     ]
    }
   ],
   "source": [
    "analisa_frequencia_de_letras(texto2)"
   ]
  },
  {
   "cell_type": "code",
   "execution_count": null,
   "metadata": {},
   "outputs": [],
   "source": []
  }
 ],
 "metadata": {
  "kernelspec": {
   "display_name": "Python 3.10.5 64-bit (windows store)",
   "language": "python",
   "name": "python3"
  },
  "language_info": {
   "codemirror_mode": {
    "name": "ipython",
    "version": 3
   },
   "file_extension": ".py",
   "mimetype": "text/x-python",
   "name": "python",
   "nbconvert_exporter": "python",
   "pygments_lexer": "ipython3",
   "version": "3.10.5"
  },
  "orig_nbformat": 4,
  "vscode": {
   "interpreter": {
    "hash": "e3c8bc5b890b64b78c2bfc8ca5de4a31b1e829604642c17c0fcba95dfb325c5b"
   }
  }
 },
 "nbformat": 4,
 "nbformat_minor": 2
}
