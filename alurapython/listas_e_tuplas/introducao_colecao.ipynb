{
 "cells": [
  {
   "cell_type": "markdown",
   "metadata": {},
   "source": [
    "# Objetos"
   ]
  },
  {
   "cell_type": "code",
   "execution_count": 86,
   "metadata": {},
   "outputs": [],
   "source": [
    "class ContaCorrente:\n",
    "\n",
    "    def __init__(self, codigo):\n",
    "        self.codigo = codigo\n",
    "        self.saldo = 0\n",
    "\n",
    "    def deposita(self, valor):\n",
    "        self.saldo += valor\n",
    "\n",
    "    def __str__(self):\n",
    "        return f'[>>> Codigo {self.codigo} Saldo {self.saldo} <<<]'\n"
   ]
  },
  {
   "cell_type": "code",
   "execution_count": 87,
   "metadata": {},
   "outputs": [
    {
     "name": "stdout",
     "output_type": "stream",
     "text": [
      "[>>> Codigo 15 Saldo 0 <<<]\n"
     ]
    }
   ],
   "source": [
    "conta_do_gui = ContaCorrente(15)\n",
    "print(conta_do_gui)"
   ]
  },
  {
   "cell_type": "code",
   "execution_count": 88,
   "metadata": {},
   "outputs": [
    {
     "name": "stdout",
     "output_type": "stream",
     "text": [
      "[>>> Codigo 15 Saldo 500 <<<]\n"
     ]
    }
   ],
   "source": [
    "conta_do_gui.deposita(500)\n",
    "print(conta_do_gui)"
   ]
  },
  {
   "cell_type": "code",
   "execution_count": 89,
   "metadata": {},
   "outputs": [
    {
     "name": "stdout",
     "output_type": "stream",
     "text": [
      "[>>> Codigo 47869 Saldo 500 <<<]\n"
     ]
    }
   ],
   "source": [
    "conta_da_dani = ContaCorrente(47869)\n",
    "conta_da_dani.deposita(500)\n",
    "print(conta_da_dani)"
   ]
  },
  {
   "cell_type": "code",
   "execution_count": 90,
   "metadata": {},
   "outputs": [
    {
     "name": "stdout",
     "output_type": "stream",
     "text": [
      "[>>> Codigo 15 Saldo 500 <<<]\n",
      "[>>> Codigo 47869 Saldo 500 <<<]\n"
     ]
    }
   ],
   "source": [
    "contas = [conta_do_gui, conta_da_dani]\n",
    "for conta in contas:\n",
    "    print(conta)"
   ]
  },
  {
   "cell_type": "code",
   "execution_count": 91,
   "metadata": {},
   "outputs": [],
   "source": [
    "contas = [conta_do_gui, conta_da_dani, conta_do_gui]"
   ]
  },
  {
   "cell_type": "code",
   "execution_count": 92,
   "metadata": {},
   "outputs": [
    {
     "name": "stdout",
     "output_type": "stream",
     "text": [
      "[>>> Codigo 15 Saldo 500 <<<]\n"
     ]
    }
   ],
   "source": [
    "print(contas[0])"
   ]
  },
  {
   "cell_type": "code",
   "execution_count": 93,
   "metadata": {},
   "outputs": [],
   "source": [
    "conta_do_gui.deposita(100)"
   ]
  },
  {
   "cell_type": "code",
   "execution_count": 94,
   "metadata": {},
   "outputs": [
    {
     "name": "stdout",
     "output_type": "stream",
     "text": [
      "[>>> Codigo 15 Saldo 600 <<<]\n"
     ]
    }
   ],
   "source": [
    "print(contas[0])"
   ]
  },
  {
   "cell_type": "code",
   "execution_count": 95,
   "metadata": {},
   "outputs": [
    {
     "name": "stdout",
     "output_type": "stream",
     "text": [
      "[>>> Codigo 15 Saldo 600 <<<]\n"
     ]
    }
   ],
   "source": [
    "print(conta_do_gui)"
   ]
  },
  {
   "cell_type": "code",
   "execution_count": 96,
   "metadata": {},
   "outputs": [
    {
     "name": "stdout",
     "output_type": "stream",
     "text": [
      "[>>> Codigo 15 Saldo 600 <<<]\n"
     ]
    }
   ],
   "source": [
    "print(contas[2])"
   ]
  },
  {
   "cell_type": "code",
   "execution_count": 97,
   "metadata": {},
   "outputs": [],
   "source": [
    "contas[2].deposita(300)"
   ]
  },
  {
   "cell_type": "code",
   "execution_count": 98,
   "metadata": {},
   "outputs": [
    {
     "name": "stdout",
     "output_type": "stream",
     "text": [
      "[>>> Codigo 15 Saldo 900 <<<]\n"
     ]
    }
   ],
   "source": [
    "print(conta_do_gui)"
   ]
  },
  {
   "cell_type": "code",
   "execution_count": 99,
   "metadata": {},
   "outputs": [
    {
     "name": "stdout",
     "output_type": "stream",
     "text": [
      "[>>> Codigo 15 Saldo 900 <<<] [>>> Codigo 47869 Saldo 500 <<<]\n",
      "[>>> Codigo 15 Saldo 1000 <<<] [>>> Codigo 47869 Saldo 600 <<<]\n"
     ]
    }
   ],
   "source": [
    "def deposita_para_todas(contas):\n",
    "    for conta in contas:\n",
    "        conta.deposita(100)\n",
    "\n",
    "contas = [conta_do_gui, conta_da_dani]\n",
    "print(contas[0], contas[1])\n",
    "deposita_para_todas(contas)\n",
    "print(contas[0], contas[1])"
   ]
  },
  {
   "cell_type": "code",
   "execution_count": 100,
   "metadata": {},
   "outputs": [
    {
     "name": "stdout",
     "output_type": "stream",
     "text": [
      "76 [>>> Codigo 15 Saldo 1000 <<<] [>>> Codigo 47869 Saldo 600 <<<]\n"
     ]
    }
   ],
   "source": [
    "contas.insert(0, 76)\n",
    "print(contas[0], contas[1], contas[2])"
   ]
  },
  {
   "cell_type": "code",
   "execution_count": 101,
   "metadata": {},
   "outputs": [],
   "source": [
    "guilherme = ('Guilherme', 37, 1981)  # Tupla\n",
    "daniela = ('Daniela', 31, 1987)"
   ]
  },
  {
   "cell_type": "markdown",
   "metadata": {},
   "source": [
    "### Tuplas: É imutável, não pode receber métodos"
   ]
  },
  {
   "cell_type": "code",
   "execution_count": 102,
   "metadata": {},
   "outputs": [],
   "source": [
    "def deposita(conta):  # Variação funcional(separando o comportamento dos dados) \n",
    "    novo_saldo = conta[1] + 100\n",
    "    codigo = conta[0]\n",
    "    return (codigo, novo_saldo)"
   ]
  },
  {
   "cell_type": "code",
   "execution_count": 103,
   "metadata": {},
   "outputs": [
    {
     "data": {
      "text/plain": [
       "[('Guilherme', 37, 1981), ('Daniela', 31, 1987)]"
      ]
     },
     "execution_count": 103,
     "metadata": {},
     "output_type": "execute_result"
    }
   ],
   "source": [
    "usuarios = [guilherme, daniela]\n",
    "usuarios"
   ]
  },
  {
   "cell_type": "code",
   "execution_count": 104,
   "metadata": {},
   "outputs": [],
   "source": [
    "usuarios.append(('Paulo', 34, 1978))"
   ]
  },
  {
   "cell_type": "code",
   "execution_count": 105,
   "metadata": {},
   "outputs": [
    {
     "data": {
      "text/plain": [
       "[('Guilherme', 37, 1981), ('Daniela', 31, 1987), ('Paulo', 34, 1978)]"
      ]
     },
     "execution_count": 105,
     "metadata": {},
     "output_type": "execute_result"
    }
   ],
   "source": [
    "usuarios"
   ]
  },
  {
   "cell_type": "code",
   "execution_count": 106,
   "metadata": {},
   "outputs": [
    {
     "data": {
      "text/plain": [
       "('Guilherme', 37, 1981)"
      ]
     },
     "execution_count": 106,
     "metadata": {},
     "output_type": "execute_result"
    }
   ],
   "source": [
    "usuarios[0]"
   ]
  },
  {
   "cell_type": "code",
   "execution_count": 107,
   "metadata": {},
   "outputs": [
    {
     "name": "stdout",
     "output_type": "stream",
     "text": [
      "[>>> Codigo 15 Saldo 500 <<<]\n",
      "[>>> Codigo 42156 Saldo 1000 <<<]\n"
     ]
    }
   ],
   "source": [
    "conta_do_gui = ContaCorrente(15)\n",
    "conta_do_gui.deposita(500)\n",
    "conta_da_dani = ContaCorrente(42156)\n",
    "conta_da_dani.deposita(1000)\n",
    "\n",
    "contas = (conta_do_gui, conta_da_dani)\n",
    "\n",
    "for conta in contas:\n",
    "    print(conta)"
   ]
  },
  {
   "cell_type": "code",
   "execution_count": 108,
   "metadata": {},
   "outputs": [],
   "source": [
    "contas[0].deposita(300)"
   ]
  },
  {
   "cell_type": "code",
   "execution_count": 109,
   "metadata": {},
   "outputs": [
    {
     "name": "stdout",
     "output_type": "stream",
     "text": [
      "[>>> Codigo 15 Saldo 800 <<<]\n",
      "[>>> Codigo 42156 Saldo 1000 <<<]\n"
     ]
    }
   ],
   "source": [
    "for conta in contas:\n",
    "    print(conta)"
   ]
  },
  {
   "cell_type": "markdown",
   "metadata": {},
   "source": [
    "## Herança e Polimorfismos"
   ]
  },
  {
   "cell_type": "code",
   "execution_count": 127,
   "metadata": {},
   "outputs": [],
   "source": [
    "from abc import ABCMeta, abstractmethod\n",
    "\n",
    "\n",
    "class Conta(metaclass=ABCMeta):\n",
    "\n",
    "    def __init__(self, codigo):\n",
    "        self._codigo = codigo\n",
    "        self._saldo = 0\n",
    "\n",
    "    def deposita(self, valor):\n",
    "        self._saldo += valor\n",
    "\n",
    "    @abstractmethod\n",
    "    def passa_o_mes(self):\n",
    "        raise NotImplementedError\n",
    "\n",
    "    def __str__(self):\n",
    "        return f'[>>> Codigo {self._codigo} Saldo {self._saldo} <<<]'"
   ]
  },
  {
   "cell_type": "code",
   "execution_count": 111,
   "metadata": {},
   "outputs": [
    {
     "name": "stdout",
     "output_type": "stream",
     "text": [
      "[>>> Codigo 88 Saldo 0 <<<]\n"
     ]
    }
   ],
   "source": [
    "print(Conta(88))"
   ]
  },
  {
   "cell_type": "code",
   "execution_count": 112,
   "metadata": {},
   "outputs": [],
   "source": [
    "class ContaCorrente(Conta):\n",
    "    \n",
    "    def passa_o_mes(self):\n",
    "        self._saldo -= 2\n",
    "\n",
    "\n",
    "class ContaPoupanca(Conta):\n",
    "    \n",
    "    def passa_o_mes(self):\n",
    "        self._saldo *= 1.01\n",
    "        self._saldo -= 3\n",
    "\n",
    "\n",
    "class ContaInvestimento(Conta):\n",
    "    pass"
   ]
  },
  {
   "cell_type": "code",
   "execution_count": 113,
   "metadata": {},
   "outputs": [
    {
     "name": "stdout",
     "output_type": "stream",
     "text": [
      "[>>> Codigo 16 Saldo 998 <<<]\n"
     ]
    }
   ],
   "source": [
    "conta16 = ContaCorrente(16)\n",
    "conta16.deposita(1000)\n",
    "conta16.passa_o_mes()\n",
    "print(conta16)"
   ]
  },
  {
   "cell_type": "code",
   "execution_count": 114,
   "metadata": {},
   "outputs": [
    {
     "name": "stdout",
     "output_type": "stream",
     "text": [
      "[>>> Codigo 17 Saldo 1007.0 <<<]\n"
     ]
    }
   ],
   "source": [
    "conta17 = ContaPoupanca(17)\n",
    "conta17.deposita(1000)\n",
    "conta17.passa_o_mes()\n",
    "print(conta17)"
   ]
  },
  {
   "cell_type": "code",
   "execution_count": 115,
   "metadata": {},
   "outputs": [
    {
     "name": "stdout",
     "output_type": "stream",
     "text": [
      "[>>> Codigo 16 Saldo 998 <<<]\n",
      "[>>> Codigo 17 Saldo 1007.0 <<<]\n"
     ]
    }
   ],
   "source": [
    "conta16 = ContaCorrente(16)\n",
    "conta16.deposita(1000)\n",
    "conta17 = ContaPoupanca(17)\n",
    "conta17.deposita(1000)\n",
    "contas = [conta16, conta17]\n",
    "\n",
    "for conta in contas:\n",
    "    conta.passa_o_mes()\n",
    "    print(conta)"
   ]
  },
  {
   "cell_type": "markdown",
   "metadata": {},
   "source": [
    "## Array -> evitar usar o padrão do python"
   ]
  },
  {
   "cell_type": "markdown",
   "metadata": {},
   "source": [
    "Organiza os valores de uma maneira eficiente"
   ]
  },
  {
   "cell_type": "code",
   "execution_count": null,
   "metadata": {},
   "outputs": [],
   "source": [
    "import array as arr\n",
    "arr.array('d', [1, 3.5])"
   ]
  },
  {
   "cell_type": "markdown",
   "metadata": {},
   "source": [
    "#### Usar o numpy quando precisar de trabalho numérico"
   ]
  },
  {
   "cell_type": "code",
   "execution_count": 119,
   "metadata": {},
   "outputs": [
    {
     "data": {
      "text/plain": [
       "array([1. , 3.5])"
      ]
     },
     "execution_count": 119,
     "metadata": {},
     "output_type": "execute_result"
    }
   ],
   "source": [
    "import numpy as np\n",
    "\n",
    "numeros = np.array([1, 3.5])\n",
    "numeros"
   ]
  },
  {
   "cell_type": "code",
   "execution_count": 124,
   "metadata": {},
   "outputs": [
    {
     "data": {
      "text/plain": [
       "array([4. , 6.5])"
      ]
     },
     "execution_count": 124,
     "metadata": {},
     "output_type": "execute_result"
    }
   ],
   "source": [
    "numeros + 3"
   ]
  },
  {
   "cell_type": "code",
   "execution_count": 138,
   "metadata": {},
   "outputs": [],
   "source": [
    "class ContaSalario:\n",
    "    def __init__(self, codigo):\n",
    "        self._codigo = codigo\n",
    "        self._saldo = 0\n",
    "\n",
    "    def __eq__(self, outro):\n",
    "        return self._codigo == outro._codigo\n",
    "\n",
    "    def deposita(self, valor):\n",
    "        self._saldo += valor\n",
    "\n",
    "    def __str__(self):\n",
    "        return f'[>>> Codigo {self._codigo} Saldo {self._saldo} <<<]'"
   ]
  },
  {
   "cell_type": "code",
   "execution_count": 139,
   "metadata": {},
   "outputs": [
    {
     "name": "stdout",
     "output_type": "stream",
     "text": [
      "[>>> Codigo 37 Saldo 0 <<<]\n"
     ]
    }
   ],
   "source": [
    "conta1 = ContaSalario(37)\n",
    "print(conta1)"
   ]
  },
  {
   "cell_type": "code",
   "execution_count": 140,
   "metadata": {},
   "outputs": [
    {
     "name": "stdout",
     "output_type": "stream",
     "text": [
      "[>>> Codigo 37 Saldo 0 <<<]\n"
     ]
    }
   ],
   "source": [
    "conta2 = ContaSalario(37)\n",
    "print(conta2)"
   ]
  },
  {
   "cell_type": "code",
   "execution_count": 141,
   "metadata": {},
   "outputs": [
    {
     "data": {
      "text/plain": [
       "True"
      ]
     },
     "execution_count": 141,
     "metadata": {},
     "output_type": "execute_result"
    }
   ],
   "source": [
    "conta1 == conta2"
   ]
  },
  {
   "cell_type": "code",
   "execution_count": 142,
   "metadata": {},
   "outputs": [
    {
     "data": {
      "text/plain": [
       "True"
      ]
     },
     "execution_count": 142,
     "metadata": {},
     "output_type": "execute_result"
    }
   ],
   "source": [
    "contas = [conta1]\n",
    "conta1 in contas"
   ]
  },
  {
   "cell_type": "code",
   "execution_count": 143,
   "metadata": {},
   "outputs": [
    {
     "data": {
      "text/plain": [
       "True"
      ]
     },
     "execution_count": 143,
     "metadata": {},
     "output_type": "execute_result"
    }
   ],
   "source": [
    "conta2 in contas"
   ]
  },
  {
   "cell_type": "code",
   "execution_count": 144,
   "metadata": {},
   "outputs": [
    {
     "data": {
      "text/plain": [
       "True"
      ]
     },
     "execution_count": 144,
     "metadata": {},
     "output_type": "execute_result"
    }
   ],
   "source": [
    "conta1 == conta2"
   ]
  },
  {
   "cell_type": "code",
   "execution_count": 149,
   "metadata": {},
   "outputs": [],
   "source": [
    "class ContaSalario:\n",
    "    def __init__(self, codigo):\n",
    "        self._codigo = codigo\n",
    "        self._saldo = 0\n",
    "\n",
    "    def __eq__(self, outro):\n",
    "        return self._codigo == outro._codigo and self._saldo == outro._saldo\n",
    "\n",
    "    def deposita(self, valor):\n",
    "        self._saldo += valor\n",
    "\n",
    "    def __str__(self):\n",
    "        return f'[>>> Codigo {self._codigo} Saldo {self._saldo} <<<]'"
   ]
  },
  {
   "cell_type": "code",
   "execution_count": 156,
   "metadata": {},
   "outputs": [
    {
     "data": {
      "text/plain": [
       "True"
      ]
     },
     "execution_count": 156,
     "metadata": {},
     "output_type": "execute_result"
    }
   ],
   "source": [
    "conta1 = ContaSalario(37)\n",
    "conta1 = ContaSalario(37)\n",
    "conta1 == conta2"
   ]
  },
  {
   "cell_type": "code",
   "execution_count": 159,
   "metadata": {},
   "outputs": [],
   "source": [
    "conta1.deposita(10)"
   ]
  },
  {
   "cell_type": "code",
   "execution_count": 160,
   "metadata": {},
   "outputs": [
    {
     "data": {
      "text/plain": [
       "False"
      ]
     },
     "execution_count": 160,
     "metadata": {},
     "output_type": "execute_result"
    }
   ],
   "source": [
    "conta1 == conta2"
   ]
  },
  {
   "cell_type": "code",
   "execution_count": 161,
   "metadata": {},
   "outputs": [],
   "source": [
    "class ContaSalario:\n",
    "    def __init__(self, codigo):\n",
    "        self._codigo = codigo\n",
    "        self._saldo = 0\n",
    "\n",
    "    def __eq__(self, outro):\n",
    "        if type(outro) != ContaSalario:\n",
    "            return False\n",
    "        return self._codigo == outro._codigo and self._saldo == outro._saldo\n",
    "\n",
    "    def deposita(self, valor):\n",
    "        self._saldo += valor\n",
    "\n",
    "    def __str__(self):\n",
    "        return f'[>>> Codigo {self._codigo} Saldo {self._saldo} <<<]'"
   ]
  },
  {
   "cell_type": "code",
   "execution_count": 162,
   "metadata": {},
   "outputs": [
    {
     "data": {
      "text/plain": [
       "False"
      ]
     },
     "execution_count": 162,
     "metadata": {},
     "output_type": "execute_result"
    }
   ],
   "source": [
    "conta1 = ContaSalario(37)\n",
    "conta2 = ContaPoupanca(37)\n",
    "conta1 == conta2"
   ]
  },
  {
   "cell_type": "code",
   "execution_count": 163,
   "metadata": {},
   "outputs": [
    {
     "data": {
      "text/plain": [
       "True"
      ]
     },
     "execution_count": 163,
     "metadata": {},
     "output_type": "execute_result"
    }
   ],
   "source": [
    "isinstance(ContaCorrente(34), ContaCorrente)"
   ]
  },
  {
   "cell_type": "code",
   "execution_count": 165,
   "metadata": {},
   "outputs": [
    {
     "data": {
      "text/plain": [
       "False"
      ]
     },
     "execution_count": 165,
     "metadata": {},
     "output_type": "execute_result"
    }
   ],
   "source": [
    "isinstance(ContaCorrente(34), Conta)"
   ]
  },
  {
   "cell_type": "code",
   "execution_count": 172,
   "metadata": {},
   "outputs": [
    {
     "name": "stdout",
     "output_type": "stream",
     "text": [
      "0 15\n",
      "1 87\n",
      "2 32\n",
      "3 65\n",
      "4 56\n",
      "5 32\n",
      "6 49\n",
      "7 37\n"
     ]
    }
   ],
   "source": [
    "idades = [15, 87, 32, 65, 56, 32, 49, 37]\n",
    "\n",
    "for i in range(len(idades)):\n",
    "    print(i, idades[i])"
   ]
  },
  {
   "cell_type": "code",
   "execution_count": 174,
   "metadata": {},
   "outputs": [
    {
     "data": {
      "text/plain": [
       "range(0, 8)"
      ]
     },
     "execution_count": 174,
     "metadata": {},
     "output_type": "execute_result"
    }
   ],
   "source": [
    "range(len(idades))  # lazy"
   ]
  },
  {
   "cell_type": "code",
   "execution_count": 175,
   "metadata": {},
   "outputs": [
    {
     "data": {
      "text/plain": [
       "<enumerate at 0x2842d167f00>"
      ]
     },
     "execution_count": 175,
     "metadata": {},
     "output_type": "execute_result"
    }
   ],
   "source": [
    "enumerate(idades)  # lazy"
   ]
  },
  {
   "cell_type": "code",
   "execution_count": 176,
   "metadata": {},
   "outputs": [
    {
     "data": {
      "text/plain": [
       "[0, 1, 2, 3, 4, 5, 6, 7]"
      ]
     },
     "execution_count": 176,
     "metadata": {},
     "output_type": "execute_result"
    }
   ],
   "source": [
    "list(range(len(idades)))"
   ]
  },
  {
   "cell_type": "code",
   "execution_count": 177,
   "metadata": {},
   "outputs": [
    {
     "data": {
      "text/plain": [
       "[(0, 15), (1, 87), (2, 32), (3, 65), (4, 56), (5, 32), (6, 49), (7, 37)]"
      ]
     },
     "execution_count": 177,
     "metadata": {},
     "output_type": "execute_result"
    }
   ],
   "source": [
    "list(enumerate(idades))"
   ]
  },
  {
   "cell_type": "code",
   "execution_count": 180,
   "metadata": {},
   "outputs": [
    {
     "name": "stdout",
     "output_type": "stream",
     "text": [
      "15 x 37\n",
      "87 x 37\n",
      "32 x 37\n",
      "65 x 37\n",
      "56 x 37\n",
      "32 x 37\n",
      "49 x 37\n",
      "37 x 37\n"
     ]
    }
   ],
   "source": [
    "for indice, indice in enumerate(idades):  #unpacking da tupla\n",
    "    print(indice, 'x', idade)"
   ]
  },
  {
   "cell_type": "code",
   "execution_count": 187,
   "metadata": {},
   "outputs": [
    {
     "name": "stdout",
     "output_type": "stream",
     "text": [
      "Guilherme\n",
      "Daniela\n",
      "Paulo\n"
     ]
    }
   ],
   "source": [
    "usuarios = [\n",
    "    ('Guilherme', 37, 1981),\n",
    "    ('Daniela', 31, 1987),\n",
    "    ('Paulo', 39, 1979)\n",
    "]\n",
    "\n",
    "for nome, idade, nascimento in usuarios:  # já desempacotando\n",
    "    print(nome)"
   ]
  },
  {
   "cell_type": "code",
   "execution_count": 188,
   "metadata": {},
   "outputs": [
    {
     "name": "stdout",
     "output_type": "stream",
     "text": [
      "Guilherme\n",
      "Daniela\n",
      "Paulo\n"
     ]
    }
   ],
   "source": [
    "for nome, _, _ in usuarios:  # já desempacotando, ignorando o resto\n",
    "    print(nome)"
   ]
  },
  {
   "cell_type": "code",
   "execution_count": 189,
   "metadata": {},
   "outputs": [
    {
     "data": {
      "text/plain": [
       "[15, 87, 32, 65, 56, 32, 49, 37]"
      ]
     },
     "execution_count": 189,
     "metadata": {},
     "output_type": "execute_result"
    }
   ],
   "source": [
    "idades"
   ]
  },
  {
   "cell_type": "code",
   "execution_count": 190,
   "metadata": {},
   "outputs": [
    {
     "data": {
      "text/plain": [
       "[15, 32, 32, 37, 49, 56, 65, 87]"
      ]
     },
     "execution_count": 190,
     "metadata": {},
     "output_type": "execute_result"
    }
   ],
   "source": [
    "sorted(idades)"
   ]
  },
  {
   "cell_type": "code",
   "execution_count": 194,
   "metadata": {},
   "outputs": [
    {
     "data": {
      "text/plain": [
       "[37, 49, 32, 56, 65, 32, 87, 15]"
      ]
     },
     "execution_count": 194,
     "metadata": {},
     "output_type": "execute_result"
    }
   ],
   "source": [
    "list(reversed(idades))"
   ]
  },
  {
   "cell_type": "code",
   "execution_count": 195,
   "metadata": {},
   "outputs": [
    {
     "data": {
      "text/plain": [
       "[87, 65, 56, 49, 37, 32, 32, 15]"
      ]
     },
     "execution_count": 195,
     "metadata": {},
     "output_type": "execute_result"
    }
   ],
   "source": [
    "sorted(idades, reverse=True)"
   ]
  },
  {
   "cell_type": "code",
   "execution_count": 196,
   "metadata": {},
   "outputs": [
    {
     "data": {
      "text/plain": [
       "[87, 65, 56, 49, 37, 32, 32, 15]"
      ]
     },
     "execution_count": 196,
     "metadata": {},
     "output_type": "execute_result"
    }
   ],
   "source": [
    "list(reversed(sorted(idades)))"
   ]
  },
  {
   "cell_type": "code",
   "execution_count": 197,
   "metadata": {},
   "outputs": [
    {
     "data": {
      "text/plain": [
       "[15, 87, 32, 65, 56, 32, 49, 37]"
      ]
     },
     "execution_count": 197,
     "metadata": {},
     "output_type": "execute_result"
    }
   ],
   "source": [
    "idades"
   ]
  },
  {
   "cell_type": "code",
   "execution_count": 198,
   "metadata": {},
   "outputs": [],
   "source": [
    "idades.sort()  # ordena na lista original"
   ]
  },
  {
   "cell_type": "code",
   "execution_count": 199,
   "metadata": {},
   "outputs": [
    {
     "data": {
      "text/plain": [
       "[15, 32, 32, 37, 49, 56, 65, 87]"
      ]
     },
     "execution_count": 199,
     "metadata": {},
     "output_type": "execute_result"
    }
   ],
   "source": [
    "idades"
   ]
  },
  {
   "cell_type": "code",
   "execution_count": 200,
   "metadata": {},
   "outputs": [
    {
     "data": {
      "text/plain": [
       "['Daniela', 'Guilherme', 'Paulo']"
      ]
     },
     "execution_count": 200,
     "metadata": {},
     "output_type": "execute_result"
    }
   ],
   "source": [
    "nomes = [\"Guilherme\", \"Daniela\", \"Paulo\"]\n",
    "sorted(nomes)"
   ]
  },
  {
   "cell_type": "code",
   "execution_count": 202,
   "metadata": {},
   "outputs": [
    {
     "data": {
      "text/plain": [
       "['Daniela', 'Paulo', 'guilherme']"
      ]
     },
     "execution_count": 202,
     "metadata": {},
     "output_type": "execute_result"
    }
   ],
   "source": [
    "nomes = [\"guilherme\", \"Daniela\", \"Paulo\"]\n",
    "sorted(nomes)"
   ]
  },
  {
   "cell_type": "code",
   "execution_count": 211,
   "metadata": {},
   "outputs": [],
   "source": [
    "class ContaSalario:\n",
    "    def __init__(self, codigo):\n",
    "        self._codigo = codigo\n",
    "        self._saldo = 0\n",
    "\n",
    "    def __eq__(self, outro):\n",
    "        if type(outro) != ContaSalario:\n",
    "            return False\n",
    "        return self._codigo == outro._codigo and self._saldo == outro._saldo\n",
    "\n",
    "    def deposita(self, valor):\n",
    "        self._saldo += valor\n",
    "\n",
    "    def __str__(self):\n",
    "        return f'[>>> Codigo {self._codigo} Saldo {self._saldo} <<<]'"
   ]
  },
  {
   "cell_type": "code",
   "execution_count": 212,
   "metadata": {},
   "outputs": [],
   "source": [
    "conta_do_guilherme = ContaSalario(17)\n",
    "conta_do_guilherme.deposita(500)\n",
    "\n",
    "conta_do_daniela = ContaSalario(3)\n",
    "conta_do_daniela.deposita(1000)\n",
    "\n",
    "conta_do_paulo = ContaSalario(133)\n",
    "conta_do_paulo.deposita(510)\n",
    "\n",
    "contas = [conta_do_guilherme, conta_do_daniela,conta_do_paulo]"
   ]
  },
  {
   "cell_type": "code",
   "execution_count": 213,
   "metadata": {},
   "outputs": [
    {
     "name": "stdout",
     "output_type": "stream",
     "text": [
      "[>>> Codigo 17 Saldo 500 <<<]\n",
      "[>>> Codigo 3 Saldo 1000 <<<]\n",
      "[>>> Codigo 133 Saldo 510 <<<]\n"
     ]
    }
   ],
   "source": [
    "for conta in contas:\n",
    "    print(conta)"
   ]
  },
  {
   "cell_type": "code",
   "execution_count": 214,
   "metadata": {},
   "outputs": [
    {
     "name": "stdout",
     "output_type": "stream",
     "text": [
      "[>>> Codigo 17 Saldo 500 <<<]\n",
      "[>>> Codigo 133 Saldo 510 <<<]\n",
      "[>>> Codigo 3 Saldo 1000 <<<]\n"
     ]
    }
   ],
   "source": [
    "def extrai_saldo(conta):\n",
    "    return conta._saldo\n",
    " # usando uma função\n",
    "for conta in sorted(contas, key=extrai_saldo):\n",
    "    print(conta)"
   ]
  },
  {
   "cell_type": "code",
   "execution_count": 215,
   "metadata": {},
   "outputs": [
    {
     "name": "stdout",
     "output_type": "stream",
     "text": [
      "[>>> Codigo 17 Saldo 500 <<<]\n",
      "[>>> Codigo 133 Saldo 510 <<<]\n",
      "[>>> Codigo 3 Saldo 1000 <<<]\n"
     ]
    }
   ],
   "source": [
    "from operator import attrgetter\n",
    " # sem criar uma função\n",
    "for conta in sorted(contas, key=attrgetter('_saldo')):\n",
    "    print(conta)"
   ]
  },
  {
   "cell_type": "code",
   "execution_count": 217,
   "metadata": {},
   "outputs": [],
   "source": [
    "class ContaSalario:\n",
    "    def __init__(self, codigo):\n",
    "        self._codigo = codigo\n",
    "        self._saldo = 0\n",
    "\n",
    "    def __eq__(self, outro):\n",
    "        if type(outro) != ContaSalario:\n",
    "            return False\n",
    "        return self._codigo == outro._codigo and self._saldo == outro._saldo\n",
    "\n",
    "    def __lt__(self, outro):\n",
    "        return self._saldo < outro._saldo \n",
    "\n",
    "    def deposita(self, valor):\n",
    "        self._saldo += valor\n",
    "\n",
    "    def __str__(self):\n",
    "        return f'[>>> Codigo {self._codigo} Saldo {self._saldo} <<<]'"
   ]
  },
  {
   "cell_type": "code",
   "execution_count": 221,
   "metadata": {},
   "outputs": [],
   "source": [
    "conta_do_guilherme = ContaSalario(17)\n",
    "conta_do_guilherme.deposita(500)\n",
    "\n",
    "conta_da_daniela = ContaSalario(3)\n",
    "conta_da_daniela.deposita(1000)\n",
    "\n",
    "conta_do_paulo = ContaSalario(133)\n",
    "conta_do_paulo.deposita(510)\n",
    "\n",
    "contas = [conta_do_guilherme, conta_do_daniela,conta_do_paulo]"
   ]
  },
  {
   "cell_type": "code",
   "execution_count": 222,
   "metadata": {},
   "outputs": [
    {
     "data": {
      "text/plain": [
       "True"
      ]
     },
     "execution_count": 222,
     "metadata": {},
     "output_type": "execute_result"
    }
   ],
   "source": [
    "conta_do_guilherme < conta_da_daniela"
   ]
  },
  {
   "cell_type": "code",
   "execution_count": 223,
   "metadata": {},
   "outputs": [
    {
     "data": {
      "text/plain": [
       "False"
      ]
     },
     "execution_count": 223,
     "metadata": {},
     "output_type": "execute_result"
    }
   ],
   "source": [
    "conta_da_daniela < conta_do_guilherme"
   ]
  },
  {
   "cell_type": "code",
   "execution_count": 224,
   "metadata": {},
   "outputs": [
    {
     "data": {
      "text/plain": [
       "[<__main__.ContaSalario at 0x2842bd42140>,\n",
       " <__main__.ContaSalario at 0x2842c07e740>,\n",
       " <__main__.ContaSalario at 0x2842c077130>]"
      ]
     },
     "execution_count": 224,
     "metadata": {},
     "output_type": "execute_result"
    }
   ],
   "source": [
    "sorted(contas)"
   ]
  },
  {
   "cell_type": "code",
   "execution_count": 225,
   "metadata": {},
   "outputs": [
    {
     "name": "stdout",
     "output_type": "stream",
     "text": [
      "[>>> Codigo 17 Saldo 500 <<<]\n",
      "[>>> Codigo 133 Saldo 510 <<<]\n",
      "[>>> Codigo 3 Saldo 1000 <<<]\n"
     ]
    }
   ],
   "source": [
    "for conta in sorted(contas):\n",
    "    print(conta)"
   ]
  },
  {
   "cell_type": "code",
   "execution_count": 226,
   "metadata": {},
   "outputs": [
    {
     "name": "stdout",
     "output_type": "stream",
     "text": [
      "[>>> Codigo 3 Saldo 1000 <<<]\n",
      "[>>> Codigo 133 Saldo 510 <<<]\n",
      "[>>> Codigo 17 Saldo 500 <<<]\n"
     ]
    }
   ],
   "source": [
    "for conta in sorted(contas, reverse=True):\n",
    "    print(conta)"
   ]
  },
  {
   "cell_type": "code",
   "execution_count": 237,
   "metadata": {},
   "outputs": [],
   "source": [
    "conta_do_guilherme = ContaSalario(1700)\n",
    "conta_do_guilherme.deposita(500)\n",
    "\n",
    "conta_da_daniela = ContaSalario(3)\n",
    "conta_da_daniela.deposita(1000)\n",
    "\n",
    "conta_do_paulo = ContaSalario(133)\n",
    "conta_do_paulo.deposita(500)\n",
    "\n",
    "contas = [conta_do_guilherme, conta_do_daniela,conta_do_paulo]"
   ]
  },
  {
   "cell_type": "code",
   "execution_count": 238,
   "metadata": {},
   "outputs": [
    {
     "name": "stdout",
     "output_type": "stream",
     "text": [
      "[>>> Codigo 133 Saldo 500 <<<]\n",
      "[>>> Codigo 1700 Saldo 500 <<<]\n",
      "[>>> Codigo 3 Saldo 1000 <<<]\n"
     ]
    }
   ],
   "source": [
    "\n",
    "for conta in sorted(contas, key=attrgetter('_saldo', '_codigo')):\n",
    "    print(conta)"
   ]
  },
  {
   "cell_type": "code",
   "execution_count": 241,
   "metadata": {},
   "outputs": [],
   "source": [
    "conta_do_guilherme = ContaSalario(1700)\n",
    "conta_do_guilherme.deposita(500)\n",
    "\n",
    "conta_da_daniela = ContaSalario(3)\n",
    "conta_da_daniela.deposita(500)\n",
    "\n",
    "conta_do_paulo = ContaSalario(133)\n",
    "conta_do_paulo.deposita(500)\n",
    "\n",
    "contas = [conta_do_guilherme, conta_da_daniela, conta_do_paulo]"
   ]
  },
  {
   "cell_type": "code",
   "execution_count": 242,
   "metadata": {},
   "outputs": [
    {
     "name": "stdout",
     "output_type": "stream",
     "text": [
      "[>>> Codigo 3 Saldo 500 <<<]\n",
      "[>>> Codigo 133 Saldo 500 <<<]\n",
      "[>>> Codigo 1700 Saldo 500 <<<]\n"
     ]
    }
   ],
   "source": [
    "for conta in sorted(contas, key=attrgetter('_saldo', '_codigo')):\n",
    "    print(conta)"
   ]
  },
  {
   "cell_type": "code",
   "execution_count": 243,
   "metadata": {},
   "outputs": [],
   "source": [
    "class ContaSalario:\n",
    "    def __init__(self, codigo):\n",
    "        self._codigo = codigo\n",
    "        self._saldo = 0\n",
    "\n",
    "    def __eq__(self, outro):\n",
    "        if type(outro) != ContaSalario:\n",
    "            return False\n",
    "        return self._codigo == outro._codigo and self._saldo == outro._saldo\n",
    "\n",
    "    def __lt__(self, outro):\n",
    "        if self._saldo != outro._saldo:\n",
    "            return self._saldo < outro._saldo\n",
    "        return self._codigo < outro._codigo\n",
    "\n",
    "    def deposita(self, valor):\n",
    "        self._saldo += valor\n",
    "\n",
    "    def __str__(self):\n",
    "        return f'[>>> Codigo {self._codigo} Saldo {self._saldo} <<<]'"
   ]
  },
  {
   "cell_type": "code",
   "execution_count": 246,
   "metadata": {},
   "outputs": [],
   "source": [
    "conta_do_guilherme = ContaSalario(1700)\n",
    "conta_do_guilherme.deposita(500)\n",
    "\n",
    "conta_da_daniela = ContaSalario(3)\n",
    "conta_da_daniela.deposita(500)\n",
    "\n",
    "conta_do_paulo = ContaSalario(133)\n",
    "conta_do_paulo.deposita(500)\n",
    "\n",
    "contas = [conta_do_guilherme, conta_da_daniela, conta_do_paulo]"
   ]
  },
  {
   "cell_type": "code",
   "execution_count": 248,
   "metadata": {},
   "outputs": [
    {
     "name": "stdout",
     "output_type": "stream",
     "text": [
      "[>>> Codigo 3 Saldo 500 <<<]\n",
      "[>>> Codigo 133 Saldo 500 <<<]\n",
      "[>>> Codigo 1700 Saldo 500 <<<]\n"
     ]
    }
   ],
   "source": [
    "for conta in sorted(contas):\n",
    "    print(conta)"
   ]
  },
  {
   "cell_type": "code",
   "execution_count": 255,
   "metadata": {},
   "outputs": [],
   "source": [
    "conta_do_guilherme = ContaSalario(1700)\n",
    "conta_do_guilherme.deposita(500)\n",
    "\n",
    "conta_da_daniela = ContaSalario(3)\n",
    "conta_da_daniela.deposita(1000)\n",
    "\n",
    "conta_do_paulo = ContaSalario(133)\n",
    "conta_do_paulo.deposita(500)\n",
    "\n",
    "contas = [conta_do_guilherme, conta_da_daniela, conta_do_paulo]"
   ]
  },
  {
   "cell_type": "code",
   "execution_count": 256,
   "metadata": {},
   "outputs": [
    {
     "name": "stdout",
     "output_type": "stream",
     "text": [
      "[>>> Codigo 133 Saldo 500 <<<]\n",
      "[>>> Codigo 1700 Saldo 500 <<<]\n",
      "[>>> Codigo 3 Saldo 1000 <<<]\n"
     ]
    }
   ],
   "source": [
    "for conta in sorted(contas):\n",
    "    print(conta)"
   ]
  },
  {
   "cell_type": "code",
   "execution_count": 257,
   "metadata": {},
   "outputs": [
    {
     "data": {
      "text/plain": [
       "True"
      ]
     },
     "execution_count": 257,
     "metadata": {},
     "output_type": "execute_result"
    }
   ],
   "source": [
    "conta_do_guilherme < conta_da_daniela"
   ]
  },
  {
   "cell_type": "code",
   "execution_count": 258,
   "metadata": {},
   "outputs": [],
   "source": [
    "from functools import total_ordering\n",
    "\n",
    "\n",
    "@total_ordering\n",
    "class ContaSalario:\n",
    "    def __init__(self, codigo):\n",
    "        self._codigo = codigo\n",
    "        self._saldo = 0\n",
    "\n",
    "    def __eq__(self, outro):\n",
    "        if type(outro) != ContaSalario:\n",
    "            return False\n",
    "        return self._codigo == outro._codigo and self._saldo == outro._saldo\n",
    "\n",
    "    def __lt__(self, outro):\n",
    "        if self._saldo != outro._saldo:\n",
    "            return self._saldo < outro._saldo\n",
    "        return self._codigo < outro._codigo\n",
    "    \n",
    "    def deposita(self, valor):\n",
    "        self._saldo += valor\n",
    "\n",
    "    def __str__(self):\n",
    "        return f'[>>> Codigo {self._codigo} Saldo {self._saldo} <<<]'"
   ]
  },
  {
   "cell_type": "code",
   "execution_count": 259,
   "metadata": {},
   "outputs": [],
   "source": [
    "conta_do_guilherme = ContaSalario(1700)\n",
    "conta_do_guilherme.deposita(500)\n",
    "\n",
    "conta_da_daniela = ContaSalario(3)\n",
    "conta_da_daniela.deposita(1000)\n",
    "\n",
    "conta_do_paulo = ContaSalario(133)\n",
    "conta_do_paulo.deposita(500)\n",
    "\n",
    "contas = [conta_do_guilherme, conta_da_daniela, conta_do_paulo]"
   ]
  },
  {
   "cell_type": "code",
   "execution_count": 260,
   "metadata": {},
   "outputs": [
    {
     "data": {
      "text/plain": [
       "True"
      ]
     },
     "execution_count": 260,
     "metadata": {},
     "output_type": "execute_result"
    }
   ],
   "source": [
    "conta_do_guilherme < conta_da_daniela"
   ]
  },
  {
   "cell_type": "code",
   "execution_count": 261,
   "metadata": {},
   "outputs": [
    {
     "data": {
      "text/plain": [
       "True"
      ]
     },
     "execution_count": 261,
     "metadata": {},
     "output_type": "execute_result"
    }
   ],
   "source": [
    "conta_do_guilherme <= conta_da_daniela"
   ]
  },
  {
   "cell_type": "code",
   "execution_count": 262,
   "metadata": {},
   "outputs": [
    {
     "data": {
      "text/plain": [
       "False"
      ]
     },
     "execution_count": 262,
     "metadata": {},
     "output_type": "execute_result"
    }
   ],
   "source": [
    "conta_do_guilherme <= conta_do_paulo"
   ]
  },
  {
   "cell_type": "code",
   "execution_count": 263,
   "metadata": {},
   "outputs": [
    {
     "data": {
      "text/plain": [
       "False"
      ]
     },
     "execution_count": 263,
     "metadata": {},
     "output_type": "execute_result"
    }
   ],
   "source": [
    "conta_do_guilherme < conta_do_guilherme"
   ]
  },
  {
   "cell_type": "code",
   "execution_count": 264,
   "metadata": {},
   "outputs": [
    {
     "data": {
      "text/plain": [
       "True"
      ]
     },
     "execution_count": 264,
     "metadata": {},
     "output_type": "execute_result"
    }
   ],
   "source": [
    "conta_do_guilherme == conta_do_guilherme"
   ]
  },
  {
   "cell_type": "code",
   "execution_count": 265,
   "metadata": {},
   "outputs": [
    {
     "data": {
      "text/plain": [
       "True"
      ]
     },
     "execution_count": 265,
     "metadata": {},
     "output_type": "execute_result"
    }
   ],
   "source": [
    "conta_do_guilherme <= conta_do_guilherme"
   ]
  },
  {
   "cell_type": "code",
   "execution_count": null,
   "metadata": {},
   "outputs": [],
   "source": []
  }
 ],
 "metadata": {
  "kernelspec": {
   "display_name": "Python 3.10.4 64-bit (windows store)",
   "language": "python",
   "name": "python3"
  },
  "language_info": {
   "codemirror_mode": {
    "name": "ipython",
    "version": 3
   },
   "file_extension": ".py",
   "mimetype": "text/x-python",
   "name": "python",
   "nbconvert_exporter": "python",
   "pygments_lexer": "ipython3",
   "version": "3.10.5"
  },
  "orig_nbformat": 4,
  "vscode": {
   "interpreter": {
    "hash": "e3c8bc5b890b64b78c2bfc8ca5de4a31b1e829604642c17c0fcba95dfb325c5b"
   }
  }
 },
 "nbformat": 4,
 "nbformat_minor": 2
}
